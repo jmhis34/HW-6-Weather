{
 "cells": [
  {
   "cell_type": "code",
   "execution_count": 25,
   "metadata": {},
   "outputs": [],
   "source": [
    "import pandas as pd\n",
    "import requests as req\n",
    "from citipy import citipy \n",
    "import matplotlib.pyplot as plt\n",
    "import seaborn as sns\n",
    "import random\n",
    "import time as time\n",
    "pd.options.mode.chained_assignment = None\n",
    "key=\"601a7ae6f5b95fdaf321985e27740714\"\n"
   ]
  },
  {
   "cell_type": "code",
   "execution_count": 26,
   "metadata": {},
   "outputs": [
    {
     "data": {
      "text/html": [
       "<div>\n",
       "<style scoped>\n",
       "    .dataframe tbody tr th:only-of-type {\n",
       "        vertical-align: middle;\n",
       "    }\n",
       "\n",
       "    .dataframe tbody tr th {\n",
       "        vertical-align: top;\n",
       "    }\n",
       "\n",
       "    .dataframe thead th {\n",
       "        text-align: right;\n",
       "    }\n",
       "</style>\n",
       "<table border=\"1\" class=\"dataframe\">\n",
       "  <thead>\n",
       "    <tr style=\"text-align: right;\">\n",
       "      <th></th>\n",
       "      <th>Lat</th>\n",
       "      <th>Lng</th>\n",
       "      <th>City</th>\n",
       "      <th>Temperature</th>\n",
       "      <th>Humidity</th>\n",
       "      <th>Clouds</th>\n",
       "      <th>Wind Speed</th>\n",
       "    </tr>\n",
       "  </thead>\n",
       "  <tbody>\n",
       "    <tr>\n",
       "      <th>0</th>\n",
       "      <td>-47.766082</td>\n",
       "      <td>59.101237</td>\n",
       "      <td>NaN</td>\n",
       "      <td>NaN</td>\n",
       "      <td>NaN</td>\n",
       "      <td>NaN</td>\n",
       "      <td>NaN</td>\n",
       "    </tr>\n",
       "    <tr>\n",
       "      <th>1</th>\n",
       "      <td>37.746916</td>\n",
       "      <td>56.772522</td>\n",
       "      <td>NaN</td>\n",
       "      <td>NaN</td>\n",
       "      <td>NaN</td>\n",
       "      <td>NaN</td>\n",
       "      <td>NaN</td>\n",
       "    </tr>\n",
       "    <tr>\n",
       "      <th>2</th>\n",
       "      <td>-84.190699</td>\n",
       "      <td>-106.405345</td>\n",
       "      <td>NaN</td>\n",
       "      <td>NaN</td>\n",
       "      <td>NaN</td>\n",
       "      <td>NaN</td>\n",
       "      <td>NaN</td>\n",
       "    </tr>\n",
       "    <tr>\n",
       "      <th>3</th>\n",
       "      <td>-86.475574</td>\n",
       "      <td>-155.345568</td>\n",
       "      <td>NaN</td>\n",
       "      <td>NaN</td>\n",
       "      <td>NaN</td>\n",
       "      <td>NaN</td>\n",
       "      <td>NaN</td>\n",
       "    </tr>\n",
       "    <tr>\n",
       "      <th>4</th>\n",
       "      <td>-64.299750</td>\n",
       "      <td>-48.957429</td>\n",
       "      <td>NaN</td>\n",
       "      <td>NaN</td>\n",
       "      <td>NaN</td>\n",
       "      <td>NaN</td>\n",
       "      <td>NaN</td>\n",
       "    </tr>\n",
       "  </tbody>\n",
       "</table>\n",
       "</div>"
      ],
      "text/plain": [
       "         Lat         Lng City Temperature Humidity Clouds Wind Speed\n",
       "0 -47.766082   59.101237  NaN         NaN      NaN    NaN        NaN\n",
       "1  37.746916   56.772522  NaN         NaN      NaN    NaN        NaN\n",
       "2 -84.190699 -106.405345  NaN         NaN      NaN    NaN        NaN\n",
       "3 -86.475574 -155.345568  NaN         NaN      NaN    NaN        NaN\n",
       "4 -64.299750  -48.957429  NaN         NaN      NaN    NaN        NaN"
      ]
     },
     "execution_count": 26,
     "metadata": {},
     "output_type": "execute_result"
    }
   ],
   "source": [
    "#random latitudes and longitudes\n",
    "data= pd.DataFrame(columns =['Lat',\"Lng\",\"City\",\"Temperature\",\"Humidity\",\"Clouds\",\"Wind Speed\"])\n",
    "lat = []\n",
    "lng = []\n",
    "for x in range(0,1200):\n",
    "    lat.append(random.uniform(-90,91))\n",
    "    lng.append(random.uniform(-181,181))\n",
    "data['Lat']=lat\n",
    "data['Lng']=lng\n",
    "data.head()"
   ]
  },
  {
   "cell_type": "code",
   "execution_count": 27,
   "metadata": {},
   "outputs": [
    {
     "data": {
      "text/html": [
       "<div>\n",
       "<style scoped>\n",
       "    .dataframe tbody tr th:only-of-type {\n",
       "        vertical-align: middle;\n",
       "    }\n",
       "\n",
       "    .dataframe tbody tr th {\n",
       "        vertical-align: top;\n",
       "    }\n",
       "\n",
       "    .dataframe thead th {\n",
       "        text-align: right;\n",
       "    }\n",
       "</style>\n",
       "<table border=\"1\" class=\"dataframe\">\n",
       "  <thead>\n",
       "    <tr style=\"text-align: right;\">\n",
       "      <th></th>\n",
       "      <th>Lat</th>\n",
       "      <th>Lng</th>\n",
       "      <th>City</th>\n",
       "      <th>Temperature</th>\n",
       "      <th>Humidity</th>\n",
       "      <th>Clouds</th>\n",
       "      <th>Wind Speed</th>\n",
       "    </tr>\n",
       "  </thead>\n",
       "  <tbody>\n",
       "    <tr>\n",
       "      <th>0</th>\n",
       "      <td>-47.766082</td>\n",
       "      <td>59.101237</td>\n",
       "      <td>taolanaro</td>\n",
       "      <td>NaN</td>\n",
       "      <td>NaN</td>\n",
       "      <td>NaN</td>\n",
       "      <td>NaN</td>\n",
       "    </tr>\n",
       "    <tr>\n",
       "      <th>1</th>\n",
       "      <td>37.746916</td>\n",
       "      <td>56.772522</td>\n",
       "      <td>bojnurd</td>\n",
       "      <td>NaN</td>\n",
       "      <td>NaN</td>\n",
       "      <td>NaN</td>\n",
       "      <td>NaN</td>\n",
       "    </tr>\n",
       "    <tr>\n",
       "      <th>2</th>\n",
       "      <td>-84.190699</td>\n",
       "      <td>-106.405345</td>\n",
       "      <td>punta arenas</td>\n",
       "      <td>NaN</td>\n",
       "      <td>NaN</td>\n",
       "      <td>NaN</td>\n",
       "      <td>NaN</td>\n",
       "    </tr>\n",
       "    <tr>\n",
       "      <th>3</th>\n",
       "      <td>-86.475574</td>\n",
       "      <td>-155.345568</td>\n",
       "      <td>mataura</td>\n",
       "      <td>NaN</td>\n",
       "      <td>NaN</td>\n",
       "      <td>NaN</td>\n",
       "      <td>NaN</td>\n",
       "    </tr>\n",
       "    <tr>\n",
       "      <th>4</th>\n",
       "      <td>-64.299750</td>\n",
       "      <td>-48.957429</td>\n",
       "      <td>ushuaia</td>\n",
       "      <td>NaN</td>\n",
       "      <td>NaN</td>\n",
       "      <td>NaN</td>\n",
       "      <td>NaN</td>\n",
       "    </tr>\n",
       "  </tbody>\n",
       "</table>\n",
       "</div>"
      ],
      "text/plain": [
       "         Lat         Lng          City Temperature Humidity Clouds Wind Speed\n",
       "0 -47.766082   59.101237     taolanaro         NaN      NaN    NaN        NaN\n",
       "1  37.746916   56.772522       bojnurd         NaN      NaN    NaN        NaN\n",
       "2 -84.190699 -106.405345  punta arenas         NaN      NaN    NaN        NaN\n",
       "3 -86.475574 -155.345568       mataura         NaN      NaN    NaN        NaN\n",
       "4 -64.299750  -48.957429       ushuaia         NaN      NaN    NaN        NaN"
      ]
     },
     "execution_count": 27,
     "metadata": {},
     "output_type": "execute_result"
    }
   ],
   "source": [
    "#the cities that are related to the coordinates\n",
    "cities =[]\n",
    "for index, row in data.iterrows():\n",
    "    city=citipy.nearest_city(row[\"Lat\"],row[\"Lng\"])\n",
    "    cities.append(city.city_name)\n",
    "data['City']=cities\n",
    "data.head()"
   ]
  },
  {
   "cell_type": "code",
   "execution_count": 28,
   "metadata": {},
   "outputs": [
    {
     "data": {
      "text/plain": [
       "531"
      ]
     },
     "execution_count": 28,
     "metadata": {},
     "output_type": "execute_result"
    }
   ],
   "source": [
    "#check for and remove duplicates - 500 unique cities to test\n",
    "new_data = data.drop_duplicates(\"City\",keep=\"first\")\n",
    "len(new_data)"
   ]
  },
  {
   "cell_type": "code",
   "execution_count": 36,
   "metadata": {},
   "outputs": [
    {
     "name": "stdout",
     "output_type": "stream",
     "text": [
      "we are now on city number 1\n",
      "The name of the city is taolanaro\n",
      "https://api.openweathermap.org/data/2.5/weather?q=taolanaro&appid=601a7ae6f5b95fdaf321985e27740714&units=imperial\n",
      "__________________________________________________________________________________________\n"
     ]
    },
    {
     "ename": "KeyError",
     "evalue": "'main'",
     "output_type": "error",
     "traceback": [
      "\u001b[0;31m---------------------------------------------------------------------------\u001b[0m",
      "\u001b[0;31mKeyError\u001b[0m                                  Traceback (most recent call last)",
      "\u001b[0;32m<ipython-input-36-b0980397fc0d>\u001b[0m in \u001b[0;36m<module>\u001b[0;34m()\u001b[0m\n\u001b[1;32m     19\u001b[0m     \u001b[0mprint\u001b[0m\u001b[0;34m(\u001b[0m\u001b[0;34m\"__________________________________________________________________________________________\"\u001b[0m\u001b[0;34m)\u001b[0m\u001b[0;34m\u001b[0m\u001b[0m\n\u001b[1;32m     20\u001b[0m     \u001b[0minfo\u001b[0m \u001b[0;34m=\u001b[0m \u001b[0mreq\u001b[0m\u001b[0;34m.\u001b[0m\u001b[0mget\u001b[0m\u001b[0;34m(\u001b[0m\u001b[0mtarget_url\u001b[0m\u001b[0;34m)\u001b[0m\u001b[0;34m.\u001b[0m\u001b[0mjson\u001b[0m\u001b[0;34m(\u001b[0m\u001b[0;34m)\u001b[0m\u001b[0;34m\u001b[0m\u001b[0m\n\u001b[0;32m---> 21\u001b[0;31m     \u001b[0mtemp\u001b[0m\u001b[0;34m.\u001b[0m\u001b[0mappend\u001b[0m\u001b[0;34m(\u001b[0m\u001b[0minfo\u001b[0m\u001b[0;34m[\u001b[0m\u001b[0;34m'main'\u001b[0m\u001b[0;34m]\u001b[0m\u001b[0;34m[\u001b[0m\u001b[0;34m'temp'\u001b[0m\u001b[0;34m]\u001b[0m\u001b[0;34m)\u001b[0m\u001b[0;34m\u001b[0m\u001b[0m\n\u001b[0m\u001b[1;32m     22\u001b[0m     \u001b[0mhumidity\u001b[0m\u001b[0;34m.\u001b[0m\u001b[0mappend\u001b[0m\u001b[0;34m(\u001b[0m\u001b[0minfo\u001b[0m\u001b[0;34m[\u001b[0m\u001b[0;34m'main'\u001b[0m\u001b[0;34m]\u001b[0m\u001b[0;34m[\u001b[0m\u001b[0;34m'humidity'\u001b[0m\u001b[0;34m]\u001b[0m\u001b[0;34m)\u001b[0m\u001b[0;34m\u001b[0m\u001b[0m\n\u001b[1;32m     23\u001b[0m     \u001b[0mclouds\u001b[0m\u001b[0;34m.\u001b[0m\u001b[0mappend\u001b[0m\u001b[0;34m(\u001b[0m\u001b[0minfo\u001b[0m\u001b[0;34m[\u001b[0m\u001b[0;34m'clouds'\u001b[0m\u001b[0;34m]\u001b[0m\u001b[0;34m[\u001b[0m\u001b[0;34m'all'\u001b[0m\u001b[0;34m]\u001b[0m\u001b[0;34m)\u001b[0m\u001b[0;34m\u001b[0m\u001b[0m\n",
      "\u001b[0;31mKeyError\u001b[0m: 'main'"
     ]
    }
   ],
   "source": [
    "#create empty arrays to store the data for temperature, humidity, clouds, and wind speed \n",
    "temp = []\n",
    "humidity =[]\n",
    "clouds = []\n",
    "wind = []\n",
    "\n",
    "counter = 0\n",
    "url = \"https://api.openweathermap.org/data/2.5/weather?q=\"\n",
    "units = \"imperial\"\n",
    "\n",
    "#iterate through the rows to pull data from the api \n",
    "for index, row in new_data.iterrows():\n",
    "    counter +=1\n",
    "    city = row[\"City\"]\n",
    "    target_url = url+city+\"&appid=\"+key+\"&units=\"+units\n",
    "    print(\"we are now on city number \"+str(counter))\n",
    "    print(\"The name of the city is \"+row[\"City\"])\n",
    "    print(target_url)\n",
    "    print(\"__________________________________________________________________________________________\")\n",
    "    info = req.get(target_url).json()\n",
    "    temp.append(info['main']['temp'])\n",
    "    humidity.append(info['main']['humidity'])\n",
    "    clouds.append(info['clouds']['all'])\n",
    "    wind.append(info['wind']['speed'])\n",
    "    time.sleep(1)\n",
    "#assign the values from the arrays to the data frame\n",
    "new_data[\"Temperature\"]=temp\n",
    "new_data[\"Humidity\"]=humidity\n",
    "new_data[\"Clouds\"]=clouds\n",
    "new_data[\"Wind Speed\"]=wind"
   ]
  },
  {
   "cell_type": "code",
   "execution_count": 30,
   "metadata": {},
   "outputs": [
    {
     "data": {
      "text/html": [
       "<div>\n",
       "<style scoped>\n",
       "    .dataframe tbody tr th:only-of-type {\n",
       "        vertical-align: middle;\n",
       "    }\n",
       "\n",
       "    .dataframe tbody tr th {\n",
       "        vertical-align: top;\n",
       "    }\n",
       "\n",
       "    .dataframe thead th {\n",
       "        text-align: right;\n",
       "    }\n",
       "</style>\n",
       "<table border=\"1\" class=\"dataframe\">\n",
       "  <thead>\n",
       "    <tr style=\"text-align: right;\">\n",
       "      <th></th>\n",
       "      <th>Lat</th>\n",
       "      <th>Lng</th>\n",
       "      <th>City</th>\n",
       "      <th>Temperature</th>\n",
       "      <th>Humidity</th>\n",
       "      <th>Clouds</th>\n",
       "      <th>Wind Speed</th>\n",
       "    </tr>\n",
       "  </thead>\n",
       "  <tbody>\n",
       "    <tr>\n",
       "      <th>0</th>\n",
       "      <td>-47.766082</td>\n",
       "      <td>59.101237</td>\n",
       "      <td>taolanaro</td>\n",
       "      <td>NaN</td>\n",
       "      <td>NaN</td>\n",
       "      <td>NaN</td>\n",
       "      <td>NaN</td>\n",
       "    </tr>\n",
       "    <tr>\n",
       "      <th>1</th>\n",
       "      <td>37.746916</td>\n",
       "      <td>56.772522</td>\n",
       "      <td>bojnurd</td>\n",
       "      <td>NaN</td>\n",
       "      <td>NaN</td>\n",
       "      <td>NaN</td>\n",
       "      <td>NaN</td>\n",
       "    </tr>\n",
       "    <tr>\n",
       "      <th>2</th>\n",
       "      <td>-84.190699</td>\n",
       "      <td>-106.405345</td>\n",
       "      <td>punta arenas</td>\n",
       "      <td>NaN</td>\n",
       "      <td>NaN</td>\n",
       "      <td>NaN</td>\n",
       "      <td>NaN</td>\n",
       "    </tr>\n",
       "    <tr>\n",
       "      <th>3</th>\n",
       "      <td>-86.475574</td>\n",
       "      <td>-155.345568</td>\n",
       "      <td>mataura</td>\n",
       "      <td>NaN</td>\n",
       "      <td>NaN</td>\n",
       "      <td>NaN</td>\n",
       "      <td>NaN</td>\n",
       "    </tr>\n",
       "    <tr>\n",
       "      <th>4</th>\n",
       "      <td>-64.299750</td>\n",
       "      <td>-48.957429</td>\n",
       "      <td>ushuaia</td>\n",
       "      <td>NaN</td>\n",
       "      <td>NaN</td>\n",
       "      <td>NaN</td>\n",
       "      <td>NaN</td>\n",
       "    </tr>\n",
       "  </tbody>\n",
       "</table>\n",
       "</div>"
      ],
      "text/plain": [
       "         Lat         Lng          City Temperature Humidity Clouds Wind Speed\n",
       "0 -47.766082   59.101237     taolanaro         NaN      NaN    NaN        NaN\n",
       "1  37.746916   56.772522       bojnurd         NaN      NaN    NaN        NaN\n",
       "2 -84.190699 -106.405345  punta arenas         NaN      NaN    NaN        NaN\n",
       "3 -86.475574 -155.345568       mataura         NaN      NaN    NaN        NaN\n",
       "4 -64.299750  -48.957429       ushuaia         NaN      NaN    NaN        NaN"
      ]
     },
     "execution_count": 30,
     "metadata": {},
     "output_type": "execute_result"
    }
   ],
   "source": [
    "new_data.head()\n"
   ]
  },
  {
   "cell_type": "code",
   "execution_count": 37,
   "metadata": {},
   "outputs": [
    {
     "data": {
      "image/png": "[encoded data removed]",
      "text/plain": [
       "<Figure size 432x288 with 1 Axes>"
      ]
     },
     "metadata": {},
     "output_type": "display_data"
    }
   ],
   "source": [
    "#Latitude Vs Temperature Scatter Plot\n",
    "plt.scatter(new_data[\"Lat\"],new_data[\"Temperature\"],marker =\"o\")\n",
    "plt.title(\"Latitude Vs. Temperature\")\n",
    "plt.xlabel(\"Latitude\")\n",
    "plt.ylabel(\"Temperature (F)\")\n",
    "sns.set()\n",
    "plt.show()"
   ]
  },
  {
   "cell_type": "code",
   "execution_count": 32,
   "metadata": {},
   "outputs": [
    {
     "data": {
      "image/png": "[encoded data removed]",
      "text/plain": [
       "<Figure size 432x288 with 1 Axes>"
      ]
     },
     "metadata": {},
     "output_type": "display_data"
    }
   ],
   "source": [
    "#Humidity Vs. Latitude Scatter Plot\n",
    "plt.scatter(new_data[\"Lat\"],new_data[\"Humidity\"],marker =\"o\")\n",
    "plt.title(\"Latitude Vs. Humidity\")\n",
    "plt.xlabel(\"Latitude\")\n",
    "plt.ylabel(\"Humidity (%)\")\n",
    "sns.set()\n",
    "plt.show()"
   ]
  },
  {
   "cell_type": "code",
   "execution_count": 33,
   "metadata": {},
   "outputs": [
    {
     "data": {
      "image/png": "[encoded data removed]",
      "text/plain": [
       "<Figure size 432x288 with 1 Axes>"
      ]
     },
     "metadata": {},
     "output_type": "display_data"
    }
   ],
   "source": [
    "#Cloudiness Vs. Latitude Scatter Plot\n",
    "plt.scatter(new_data[\"Lat\"],new_data[\"Clouds\"],marker =\"o\")\n",
    "plt.title(\"Latitude Vs. Cloudiness\")\n",
    "plt.xlabel(\"Latitude\")\n",
    "plt.ylabel(\"Cloudiness (%)\")\n",
    "sns.set()\n",
    "plt.show()"
   ]
  },
  {
   "cell_type": "code",
   "execution_count": 34,
   "metadata": {},
   "outputs": [
    {
     "data": {
      "image/png": "[encoded data removed]",
      "text/plain": [
       "<Figure size 432x288 with 1 Axes>"
      ]
     },
     "metadata": {},
     "output_type": "display_data"
    }
   ],
   "source": [
    "#Wind Speed Vs. Latitude Scatter Plot\n",
    "plt.scatter(new_data[\"Lat\"],new_data[\"Wind Speed\"],marker =\"o\")\n",
    "plt.title(\"Latitude Vs. Wind Speed\")\n",
    "plt.xlabel(\"Latitude\")\n",
    "plt.ylabel(\"Wind Speed (mph)\")\n",
    "sns.set()\n",
    "plt.show()"
   ]
  },
  {
   "cell_type": "code",
   "execution_count": null,
   "metadata": {},
   "outputs": [],
   "source": []
  }
 ],
 "metadata": {
  "kernelspec": {
   "display_name": "Python 3",
   "language": "python",
   "name": "python3"
  },
  "language_info": {
   "codemirror_mode": {
    "name": "ipython",
    "version": 3
   },
   "file_extension": ".py",
   "mimetype": "text/x-python",
   "name": "python",
   "nbconvert_exporter": "python",
   "pygments_lexer": "ipython3",
   "version": "3.6.5"
  }
 },
 "nbformat": 4,
 "nbformat_minor": 2
}
